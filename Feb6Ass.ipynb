{
 "cells": [
  {
   "cell_type": "code",
   "execution_count": 5,
   "metadata": {},
   "outputs": [],
   "source": [
    "# q1"
   ]
  },
  {
   "cell_type": "code",
   "execution_count": 8,
   "metadata": {},
   "outputs": [
    {
     "name": "stdout",
     "output_type": "stream",
     "text": [
      "4134711838987085478833841242112000\n"
     ]
    }
   ],
   "source": [
    "from functools import reduce\n",
    "\n",
    "lst = [1,2,3,4, [44,55,66, True], False, (34,56,78,89,34), {1,2,3,3,2,1}, {1:34, \"key2\": [55, 67, 78, 89], 4: (45,22, 61, 34)}, [56, 'data science'], 'Machine Learning']\n",
    "\n",
    "def extract(lst):\n",
    "    rlst = []\n",
    "\n",
    "    for i in lst:\n",
    "        if type(i)==int:\n",
    "            rlst.append(i)\n",
    "        elif type(i)==list:\n",
    "            for j in i:\n",
    "                if type(j)==int:\n",
    "                    rlst.append(j)\n",
    "        elif type(i)==set:\n",
    "            for k in i:\n",
    "                if type(k)==int:\n",
    "                    rlst.append(k)\n",
    "        elif type(i)==tuple:\n",
    "            for l in i:\n",
    "                if type(l)==int:\n",
    "                    rlst.append(l)\n",
    "        elif type(i)==dict:\n",
    "            for key in i.keys():\n",
    "                if type(key)==int:\n",
    "                    rlst.append(key)\n",
    "            for val in i.values():\n",
    "                if type(val)==int:\n",
    "                    rlst.append(val)\n",
    "                elif type(val)==list:\n",
    "                    for j in val:\n",
    "                        if type(j)==int:\n",
    "                            rlst.append(j)\n",
    "                elif type(val)==set:\n",
    "                    for k in val:\n",
    "                        if type(k)==int:\n",
    "                            rlst.append(k)\n",
    "                elif type(val)==tuple:\n",
    "                    for l in val:\n",
    "                        if type(l)==int:\n",
    "                            rlst.append(l)\n",
    "    return(rlst)\n",
    "\n",
    "rlst = extract(lst)\n",
    "mul = int(reduce(lambda x,y:x*y,rlst))\n",
    "print(mul)"
   ]
  },
  {
   "cell_type": "code",
   "execution_count": 1,
   "metadata": {},
   "outputs": [],
   "source": [
    "# q2"
   ]
  },
  {
   "cell_type": "code",
   "execution_count": null,
   "metadata": {},
   "outputs": [],
   "source": [
    "def encrypt(message):\n",
    "    alphabet = \"abcdefghijklmnopqrstuvwxyz\"\n",
    "    opposite = \"zyxwvutsrqponmlkjihgfedcba\"\n",
    "    mapping = dict(zip(alphabet, opposite))\n",
    "    encrypted = \"\"\n",
    "    for char in message:\n",
    "        if char.isalpha():\n",
    "            encrypted += mapping[char.lower()]\n",
    "        elif char.isspace():\n",
    "            encrypted += \"$\"\n",
    "        else:\n",
    "            encrypted += char\n",
    "    return encrypted\n",
    "\n",
    "\n",
    "message = \"I want to become a Data Scientist.\"\n",
    "encrypted = encrypt(message)\n",
    "print(encrypted)"
   ]
  },
  {
   "cell_type": "code",
   "execution_count": null,
   "metadata": {},
   "outputs": [],
   "source": []
  }
 ],
 "metadata": {
  "kernelspec": {
   "display_name": "Python 3",
   "language": "python",
   "name": "python3"
  },
  "language_info": {
   "codemirror_mode": {
    "name": "ipython",
    "version": 3
   },
   "file_extension": ".py",
   "mimetype": "text/x-python",
   "name": "python",
   "nbconvert_exporter": "python",
   "pygments_lexer": "ipython3",
   "version": "3.11.1"
  },
  "orig_nbformat": 4,
  "vscode": {
   "interpreter": {
    "hash": "5238573367df39f7286bb46f9ff5f08f63a01a80960060ce41e3c79b190280fa"
   }
  }
 },
 "nbformat": 4,
 "nbformat_minor": 2
}
